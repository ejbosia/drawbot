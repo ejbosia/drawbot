{
 "cells": [
  {
   "cell_type": "code",
   "execution_count": 2,
   "metadata": {},
   "outputs": [],
   "source": [
    "import matplotlib.pyplot as plt\n",
    "import numpy as np\n",
    "import plotly.express as px\n",
    "from collections import Counter\n",
    "import cv2\n",
    "import convert_polygons as cp\n",
    "\n",
    "\n",
    "import shapely.affinity as sa"
   ]
  },
  {
   "cell_type": "code",
   "execution_count": 3,
   "metadata": {},
   "outputs": [
    {
     "data": {
      "text/plain": [
       "True"
      ]
     },
     "execution_count": 3,
     "metadata": {},
     "output_type": "execute_result"
    }
   ],
   "source": [
    "image = cv2.imread(\"../images/test_ring.png\", 0)\n",
    "not image is None"
   ]
  },
  {
   "cell_type": "code",
   "execution_count": 4,
   "metadata": {},
   "outputs": [
    {
     "data": {
      "text/plain": [
       "3"
      ]
     },
     "execution_count": 4,
     "metadata": {},
     "output_type": "execute_result"
    }
   ],
   "source": [
    "c,h = cv2.findContours(image, cv2.RETR_CCOMP, cv2.CHAIN_APPROX_SIMPLE)\n",
    "\n",
    "len(c)"
   ]
  },
  {
   "cell_type": "code",
   "execution_count": 5,
   "metadata": {
    "scrolled": true
   },
   "outputs": [
    {
     "data": {
      "image/png": "[encoded data removed]",
      "text/plain": [
       "<Figure size 432x288 with 1 Axes>"
      ]
     },
     "metadata": {
      "needs_background": "light"
     },
     "output_type": "display_data"
    }
   ],
   "source": [
    "%matplotlib inline\n",
    "\n",
    "test = cv2.cvtColor(image, cv2.COLOR_GRAY2BGR)\n",
    "\n",
    "cv2.drawContours(test, c, -1, (0,255,0), 1)\n",
    "\n",
    "plt.imshow(test)\n",
    "plt.show()"
   ]
  },
  {
   "cell_type": "code",
   "execution_count": 6,
   "metadata": {},
   "outputs": [],
   "source": [
    "import importlib as IL\n",
    "from shapely.geometry import Polygon, LineString, Point, MultiLineString"
   ]
  },
  {
   "cell_type": "code",
   "execution_count": 7,
   "metadata": {
    "scrolled": false
   },
   "outputs": [
    {
     "name": "stdout",
     "output_type": "stream",
     "text": [
      "[(11, 10), (10, 11), (10, 12), (11, 13), (12, 13), (13, 12), (13, 11), (12, 10)] []\n",
      "[(12, 1), (11, 2), (8, 2), (7, 3), (5, 3), (4, 4), (4, 5), (3, 6), (3, 16), (4, 17), (4, 18), (7, 21), (15, 21), (16, 20), (17, 20), (20, 17), (20, 16), (21, 15), (21, 8), (20, 7), (20, 6), (19, 5), (18, 5), (17, 4), (16, 4), (15, 3), (15, 2), (14, 1)] [[(9, 7), (14, 7), (17, 10), (17, 13), (14, 16), (9, 16), (6, 13), (6, 10)]]\n"
     ]
    }
   ],
   "source": [
    "IL.reload(cp)\n",
    "p_list = cp.execute(image)"
   ]
  },
  {
   "cell_type": "code",
   "execution_count": 8,
   "metadata": {
    "scrolled": true
   },
   "outputs": [
    {
     "data": {
      "image/svg+xml": [
       "<svg xmlns=\"http://www.w3.org/2000/svg\" xmlns:xlink=\"http://www.w3.org/1999/xlink\" width=\"100.0\" height=\"100.0\" viewBox=\"0.7428994951510739 -0.2571005048489279 21.514201009697853 22.38022641348229\" preserveAspectRatio=\"xMinYMin meet\"><g transform=\"matrix(1,0,0,-1,0,21.866025403784434)\"><g><polyline fill=\"none\" stroke=\"#66cc99\" stroke-width=\"0.4476045282696458\" points=\"17.0,2.339745962155612 15.633974596215563,2.705771365940051 13.035898384862245,1.205771365940051 11.669872981077805,1.5717967697244903 9.937822173508929,0.5717967697244903 8.57179676972449,0.9378221735089287 8.07179676972449,1.803847577293368 6.705771365940052,2.1698729810778064 1.705771365940052,10.830127018922195 2.071796769724492,12.196152422706632 1.5717967697244921,13.06217782649107 2.669872981077808,17.160254037844386 9.598076211353316,21.160254037844386 10.964101615137757,20.794228634059948 11.830127018922195,21.294228634059944 15.92820323027551,20.19615242270663 16.42820323027551,19.33012701892219 17.794228634059948,18.964101615137753 21.294228634059948,12.90192378864668 20.92820323027551,11.535898384862243 21.42820323027551,10.669872981077805 21.062177826491073,9.303847577293364 20.196152422706632,8.803847577293364 19.830127018922195,7.437822173508928 18.964101615137753,6.937822173508928 18.598076211353316,5.57179676972449 19.098076211353316,4.705771365940051 18.73205080756888,3.339745962155612 17.0,2.339745962155612\" opacity=\"0.8\" /><polyline fill=\"none\" stroke=\"#66cc99\" stroke-width=\"0.4476045282696458\" points=\"11.401923788646684,6.035898384862244 15.732050807568879,8.535898384862243 16.830127018922195,12.633974596215559 15.330127018922195,15.232050807568875 11.232050807568879,16.33012701892219 6.901923788646684,13.830127018922191 5.803847577293368,9.732050807568879 7.303847577293368,7.133974596215562 11.401923788646684,6.035898384862244\" opacity=\"0.8\" /></g></g></svg>"
      ],
      "text/plain": [
       "<shapely.geometry.multilinestring.MultiLineString at 0x7f069d0c6dc0>"
      ]
     },
     "execution_count": 8,
     "metadata": {},
     "output_type": "execute_result"
    }
   ],
   "source": [
    "polygon = p_list[1]\n",
    "\n",
    "new = sa.rotate(polygon,np.pi/6, use_radians=True)\n",
    "\n",
    "MultiLineString([new.exterior]+list(new.interiors))"
   ]
  },
  {
   "cell_type": "code",
   "execution_count": 197,
   "metadata": {},
   "outputs": [],
   "source": [
    "def plot_path(path):\n",
    "    \n",
    "    X = []\n",
    "    Y = []\n",
    "    \n",
    "    \n",
    "    if type(path[0]) == tuple or type(path[0]) == np.ndarray:\n",
    "        \n",
    "        for p in list(path):\n",
    "            X.append(p[0])\n",
    "            Y.append(p[1])\n",
    "\n",
    "        plt.plot(X,Y)\n",
    "    else:\n",
    "\n",
    "        for p in list(path):\n",
    "            X.append(p.x)\n",
    "            Y.append(p.y)\n",
    "\n",
    "        plt.plot(X,Y)\n",
    "\n",
    "def plot_linestring(ls):\n",
    "    \n",
    "    X = []\n",
    "    Y = []\n",
    "    \n",
    "    for p in list(ls.coords):\n",
    "        X.append(p[0])\n",
    "        Y.append(p[1])\n",
    "        \n",
    "    plt.plot(X,Y)"
   ]
  },
  {
   "cell_type": "code",
   "execution_count": 181,
   "metadata": {},
   "outputs": [],
   "source": [
    "\n",
    "def find_peaks(contour):\n",
    "\n",
    "    # check every point for peaks\n",
    "    peaks = []\n",
    "\n",
    "    rp0 = contour[-1:] + contour[0:-1]\n",
    "    rp1 = contour\n",
    "    rp2 = contour[1:] + contour[0:1]\n",
    "\n",
    "\n",
    "    for p0, p1, p2 in zip(rp0,rp1,rp2):\n",
    "\n",
    "        if p0.y == p2.y:\n",
    "            peaks.append(p1)\n",
    "\n",
    "    return peaks\n"
   ]
  },
  {
   "cell_type": "code",
   "execution_count": 277,
   "metadata": {
    "scrolled": false
   },
   "outputs": [
    {
     "data": {
      "image/png": "[encoded data removed]",
      "text/plain": [
       "<Figure size 432x288 with 1 Axes>"
      ]
     },
     "metadata": {
      "needs_background": "light"
     },
     "output_type": "display_data"
    }
   ],
   "source": [
    "distance = 0.001\n",
    "\n",
    "\n",
    "l1 = LineString(list(new.envelope.exterior.coords)[0:2])\n",
    "l1 = l1.parallel_offset(0.5*distance, 'left')\n",
    "\n",
    "\n",
    "test = MultiLineString([new.exterior]+list(new.interiors))\n",
    "\n",
    "intersection_list = []\n",
    "contour_list = []\n",
    "\n",
    "for _ in range(len(test)):\n",
    "    contour_list.append([])\n",
    "    \n",
    "while l1.intersects(new):\n",
    "    \n",
    "    intersections = []\n",
    "\n",
    "    for i, x in enumerate(test):\n",
    "        if l1.intersects(x):\n",
    "            ip = list(x.intersection(l1))\n",
    "            contour_list[i].extend(ip)    \n",
    "            intersections.extend(ip)\n",
    "    \n",
    "    intersection_list.append(intersections)\n",
    "    \n",
    "    l1 = l1.parallel_offset(distance, 'left')\n",
    "\n",
    "    \n",
    "for i in range(len(intersection_list)):\n",
    "    \n",
    "    intersection_list[i].sort(key = lambda x: x.x)\n",
    "    \n",
    "# sort the contour points\n",
    "for i in range(len(contour_list)):\n",
    "    \n",
    "    # sort the points by the projection distance\n",
    "    contour_list[i].sort(key=test[i].project)\n",
    "    \n",
    "    # find the peaks in the contour\n",
    "    peaks = find_peaks(contour_list[i])\n",
    "    \n",
    "    # remove the peaks from the contour and intersection list\n",
    "    for p in peaks:\n",
    "                \n",
    "        contour_list[i].remove(p)\n",
    "        \n",
    "        for r, row in enumerate(intersection_list):\n",
    "            if p in row:\n",
    "                intersection_list[r].remove(p)\n",
    "    \n",
    "    \n",
    "    plot_path(contour_list[i])\n",
    "\n",
    "    \n",
    "    \n"
   ]
  },
  {
   "cell_type": "code",
   "execution_count": 183,
   "metadata": {},
   "outputs": [],
   "source": [
    "import contour_fill_shapely as cfs"
   ]
  },
  {
   "cell_type": "code",
   "execution_count": 184,
   "metadata": {},
   "outputs": [],
   "source": [
    "def time_function(func):\n",
    "    def inner(*arg):\n",
    "        start = time.time()\n",
    "        result = func(*arg)\n",
    "        \n",
    "        measured_time = time.time()-start\n",
    "        \n",
    "        print(func.__name__, measured_time)\n",
    "        return result, measured_time\n",
    "    return inner"
   ]
  },
  {
   "cell_type": "code",
   "execution_count": 275,
   "metadata": {
    "scrolled": true
   },
   "outputs": [
    {
     "name": "stdout",
     "output_type": "stream",
     "text": [
      "POINT (13.03207152584044 1.206796769724491)\n",
      "POINT (16.97368602791858 2.346796769724484)\n",
      "POINT (4.47320187562917 6.036796769724406)\n"
     ]
    },
    {
     "ename": "KeyboardInterrupt",
     "evalue": "",
     "output_type": "error",
     "traceback": [
      "\u001b[0;31m---------------------------------------------------------------------------\u001b[0m",
      "\u001b[0;31mKeyboardInterrupt\u001b[0m                         Traceback (most recent call last)",
      "\u001b[0;32m<timed exec>\u001b[0m in \u001b[0;36m<module>\u001b[0;34m\u001b[0m\n",
      "\u001b[0;32m<timed exec>\u001b[0m in \u001b[0;36mget_available_pt\u001b[0;34m(total_path, intersection_list)\u001b[0m\n",
      "\u001b[0;32m~/.local/lib/python3.8/site-packages/shapely/geometry/base.py\u001b[0m in \u001b[0;36mintersects\u001b[0;34m(self, other)\u001b[0m\n\u001b[1;32m    765\u001b[0m     \u001b[0;32mdef\u001b[0m \u001b[0mintersects\u001b[0m\u001b[0;34m(\u001b[0m\u001b[0mself\u001b[0m\u001b[0;34m,\u001b[0m \u001b[0mother\u001b[0m\u001b[0;34m)\u001b[0m\u001b[0;34m:\u001b[0m\u001b[0;34m\u001b[0m\u001b[0;34m\u001b[0m\u001b[0m\n\u001b[1;32m    766\u001b[0m         \u001b[0;34m\"\"\"Returns True if geometries intersect, else False\"\"\"\u001b[0m\u001b[0;34m\u001b[0m\u001b[0;34m\u001b[0m\u001b[0m\n\u001b[0;32m--> 767\u001b[0;31m         \u001b[0;32mreturn\u001b[0m \u001b[0mbool\u001b[0m\u001b[0;34m(\u001b[0m\u001b[0mself\u001b[0m\u001b[0;34m.\u001b[0m\u001b[0mimpl\u001b[0m\u001b[0;34m[\u001b[0m\u001b[0;34m'intersects'\u001b[0m\u001b[0;34m]\u001b[0m\u001b[0;34m(\u001b[0m\u001b[0mself\u001b[0m\u001b[0;34m,\u001b[0m \u001b[0mother\u001b[0m\u001b[0;34m)\u001b[0m\u001b[0;34m)\u001b[0m\u001b[0;34m\u001b[0m\u001b[0;34m\u001b[0m\u001b[0m\n\u001b[0m\u001b[1;32m    768\u001b[0m \u001b[0;34m\u001b[0m\u001b[0m\n\u001b[1;32m    769\u001b[0m     \u001b[0;32mdef\u001b[0m \u001b[0moverlaps\u001b[0m\u001b[0;34m(\u001b[0m\u001b[0mself\u001b[0m\u001b[0;34m,\u001b[0m \u001b[0mother\u001b[0m\u001b[0;34m)\u001b[0m\u001b[0;34m:\u001b[0m\u001b[0;34m\u001b[0m\u001b[0;34m\u001b[0m\u001b[0m\n",
      "\u001b[0;32m~/.local/lib/python3.8/site-packages/shapely/predicates.py\u001b[0m in \u001b[0;36m__call__\u001b[0;34m(self, this, other, *args)\u001b[0m\n\u001b[1;32m     13\u001b[0m         \u001b[0mself\u001b[0m\u001b[0;34m.\u001b[0m\u001b[0m_validate\u001b[0m\u001b[0;34m(\u001b[0m\u001b[0mother\u001b[0m\u001b[0;34m,\u001b[0m \u001b[0mstop_prepared\u001b[0m\u001b[0;34m=\u001b[0m\u001b[0;32mTrue\u001b[0m\u001b[0;34m)\u001b[0m\u001b[0;34m\u001b[0m\u001b[0;34m\u001b[0m\u001b[0m\n\u001b[1;32m     14\u001b[0m         \u001b[0;32mtry\u001b[0m\u001b[0;34m:\u001b[0m\u001b[0;34m\u001b[0m\u001b[0;34m\u001b[0m\u001b[0m\n\u001b[0;32m---> 15\u001b[0;31m             \u001b[0;32mreturn\u001b[0m \u001b[0mself\u001b[0m\u001b[0;34m.\u001b[0m\u001b[0mfn\u001b[0m\u001b[0;34m(\u001b[0m\u001b[0mthis\u001b[0m\u001b[0;34m.\u001b[0m\u001b[0m_geom\u001b[0m\u001b[0;34m,\u001b[0m \u001b[0mother\u001b[0m\u001b[0;34m.\u001b[0m\u001b[0m_geom\u001b[0m\u001b[0;34m,\u001b[0m \u001b[0;34m*\u001b[0m\u001b[0margs\u001b[0m\u001b[0;34m)\u001b[0m\u001b[0;34m\u001b[0m\u001b[0;34m\u001b[0m\u001b[0m\n\u001b[0m\u001b[1;32m     16\u001b[0m         \u001b[0;32mexcept\u001b[0m \u001b[0mPredicateError\u001b[0m \u001b[0;32mas\u001b[0m \u001b[0merr\u001b[0m\u001b[0;34m:\u001b[0m\u001b[0;34m\u001b[0m\u001b[0;34m\u001b[0m\u001b[0m\n\u001b[1;32m     17\u001b[0m             \u001b[0;31m# Dig deeper into causes of errors.\u001b[0m\u001b[0;34m\u001b[0m\u001b[0;34m\u001b[0m\u001b[0;34m\u001b[0m\u001b[0m\n",
      "\u001b[0;32m~/.local/lib/python3.8/site-packages/shapely/geos.py\u001b[0m in \u001b[0;36merrcheck_predicate\u001b[0;34m(result, func, argtuple)\u001b[0m\n\u001b[1;32m    579\u001b[0m \u001b[0;34m\u001b[0m\u001b[0m\n\u001b[1;32m    580\u001b[0m \u001b[0;34m\u001b[0m\u001b[0m\n\u001b[0;32m--> 581\u001b[0;31m \u001b[0;32mdef\u001b[0m \u001b[0merrcheck_predicate\u001b[0m\u001b[0;34m(\u001b[0m\u001b[0mresult\u001b[0m\u001b[0;34m,\u001b[0m \u001b[0mfunc\u001b[0m\u001b[0;34m,\u001b[0m \u001b[0margtuple\u001b[0m\u001b[0;34m)\u001b[0m\u001b[0;34m:\u001b[0m\u001b[0;34m\u001b[0m\u001b[0;34m\u001b[0m\u001b[0m\n\u001b[0m\u001b[1;32m    582\u001b[0m     \u001b[0;34m\"\"\"Result is 2 on exception, 1 on True, 0 on False\"\"\"\u001b[0m\u001b[0;34m\u001b[0m\u001b[0;34m\u001b[0m\u001b[0m\n\u001b[1;32m    583\u001b[0m     \u001b[0;32mif\u001b[0m \u001b[0mresult\u001b[0m \u001b[0;34m==\u001b[0m \u001b[0;36m2\u001b[0m\u001b[0;34m:\u001b[0m\u001b[0;34m\u001b[0m\u001b[0;34m\u001b[0m\u001b[0m\n",
      "\u001b[0;31mKeyboardInterrupt\u001b[0m: "
     ]
    }
   ],
   "source": [
    "%%time\n",
    "\n",
    "import time\n",
    "# get the next point\n",
    "\n",
    "def next_point(point, contour_list, set_list, point_dict, new_row_y):\n",
    "        \n",
    "    strp = str(point)\n",
    "\n",
    "    i1 = set_list[point_dict[strp]][strp]\n",
    "    \n",
    "    ring = contour_list[point_dict[strp]]\n",
    "    \n",
    "    i0 = i1-1\n",
    "    i2 = i1+1\n",
    "        \n",
    "    # loop i2 around the ring if needed\n",
    "    if i2 == len(ring):\n",
    "        i2 = 0\n",
    "\n",
    "    # check the previous point\n",
    "    if ring[i0].y == new_row_y:\n",
    "        return ring[i0]\n",
    "    \n",
    "    # check the next point\n",
    "    if ring[i2].y == new_row_y:\n",
    "        return ring[i2]    \n",
    "    \n",
    "    # if neither point returns\n",
    "    return None\n",
    "    \n",
    "    \n",
    "def across_point(point, row):\n",
    "        \n",
    "    index = row.index(point)\n",
    "    \n",
    "    if index % 2 == 0:\n",
    "        return row[index+1]\n",
    "    else:\n",
    "        return row[index-1]\n",
    "\n",
    "    \n",
    "    \n",
    "# find a point not in the path\n",
    "def get_available_pt(total_path, intersection_list):\n",
    "    \n",
    "    mls = MultiLineString([LineString(p) for p in total_path])\n",
    "    \n",
    "    for row in intersection_list:\n",
    "        for p in row:\n",
    "            \n",
    "            if mls.intersects(Point(p)):\n",
    "                continue\n",
    "            else:\n",
    "                return p\n",
    "    return None   \n",
    "    \n",
    "    \n",
    "def fill_path(start, intersection_list, contour_list):\n",
    "        \n",
    "    # map point to a contour index\n",
    "    point_dict = {}    \n",
    "    for index, contour in enumerate(contour_list):\n",
    "        point_dict = {**point_dict, **{str(key):index for key in contour}}\n",
    "    \n",
    "    # map point to index\n",
    "    set_list = [{str(key):value for (value,key) in enumerate(contour)} for contour in contour_list]    \n",
    "        \n",
    "    p1 = start\n",
    "    index = 0\n",
    "    \n",
    "    for i, row in enumerate(intersection_list):\n",
    "        if start.y == row[0].y:\n",
    "            index = i\n",
    "            break\n",
    "    \n",
    "    path = []\n",
    "    \n",
    "    while not p1 is None:\n",
    "        \n",
    "        path.append(p1)\n",
    "        p2 = across_point(p1, intersection_list[index])\n",
    "        path.append(p2)\n",
    "        index+=1\n",
    "            \n",
    "        if index == len(intersection_list):\n",
    "            p1 = None\n",
    "        else:\n",
    "            p1 = next_point(p2, contour_list, set_list, point_dict, intersection_list[index][0].y)    \n",
    "    \n",
    "    return path\n",
    "    \n",
    "\n",
    "start = get_available_pt([], intersection_list)\n",
    "total_path = []\n",
    "while not start is None:\n",
    "    total_path.append(fill_path(start, intersection_list, contour_list))\n",
    "    start = get_available_pt(total_path, intersection_list)\n",
    "    print(start)"
   ]
  },
  {
   "cell_type": "code",
   "execution_count": 186,
   "metadata": {
    "scrolled": true
   },
   "outputs": [
    {
     "name": "stdout",
     "output_type": "stream",
     "text": [
      "42\n",
      "8\n",
      "280\n",
      "206\n",
      "96\n",
      "10\n"
     ]
    },
    {
     "data": {
      "image/png": "[encoded data removed]",
      "text/plain": [
       "<Figure size 432x288 with 1 Axes>"
      ]
     },
     "metadata": {
      "needs_background": "light"
     },
     "output_type": "display_data"
    }
   ],
   "source": [
    "\n",
    "for path in total_path:\n",
    "    print(len(path))\n",
    "    plot_path(path)"
   ]
  },
  {
   "cell_type": "code",
   "execution_count": 187,
   "metadata": {},
   "outputs": [],
   "source": [
    "'''\n",
    "Testing speed boost with numba\n",
    "'''\n",
    "\n",
    "from numba import jit"
   ]
  },
  {
   "cell_type": "code",
   "execution_count": 280,
   "metadata": {
    "scrolled": false
   },
   "outputs": [
    {
     "name": "stdout",
     "output_type": "stream",
     "text": [
      "13.5 s ± 116 ms per loop (mean ± std. dev. of 7 runs, 3 loops each)\n",
      "64228\n"
     ]
    },
    {
     "data": {
      "image/png": "[encoded data removed]",
      "text/plain": [
       "<Figure size 432x288 with 1 Axes>"
      ]
     },
     "metadata": {
      "needs_background": "light"
     },
     "output_type": "display_data"
    }
   ],
   "source": [
    "import time\n",
    "# get the next point\n",
    "\n",
    "@jit(nopython=True) \n",
    "def next_point(point, contour_indices, all_points):\n",
    "        \n",
    "    i1 = np.where((all_points[:,0] == point[0]) & (all_points[:,1]==point[1]))[0][0]\n",
    "    \n",
    "    i0 = i1-1\n",
    "    i2 = i1+1    \n",
    "    \n",
    "    if i0 in contour_indices:\n",
    "        i0 = contour_indices[np.where(i0 == contour_indices)[0][0]+1] -1\n",
    "        \n",
    "    elif i2 in contour_indices:\n",
    "        i2 = contour_indices[np.where(i2 == contour_indices)[0][0]-1]\n",
    "\n",
    "        \n",
    "    # check the previous point\n",
    "    if all_points[i0][1] > point[1]:\n",
    "        return all_points[i0]\n",
    "    \n",
    "    # check the next point\n",
    "    if all_points[i2][1] > point[1]:\n",
    "        return all_points[i2]    \n",
    "    \n",
    "    # if neither point returns\n",
    "    return None\n",
    "\n",
    "\n",
    "@jit(nopython=True) \n",
    "def across_point(point, all_points): \n",
    "        \n",
    "    row = all_points[all_points[:,1]==point[1]][:,0]\n",
    "\n",
    "    row.sort()\n",
    "        \n",
    "    index = np.where((row == point[0]))[0][0]\n",
    "        \n",
    "    if index % 2 == 0:\n",
    "        return np.array([row[index+1], point[1]])\n",
    "    else:\n",
    "        return np.array([row[index-1], point[1]])\n",
    "    \n",
    "    \n",
    "# find a point not in the path\n",
    "@jit(nopython=True)\n",
    "def get_available_pt_index(last_start,total_path, all_points):\n",
    "        \n",
    "    for i in range(last_start, len(all_points)):\n",
    "        if ((total_path[:,0] == all_points[i,0]) & (total_path[:,1] == all_points[i,1])).any():\n",
    "            continue\n",
    "        else:\n",
    "            return i\n",
    "    return -1   \n",
    "    \n",
    "\n",
    "@jit(nopython=True)  \n",
    "def numba_mode(start_index, all_points, contour_indices):    \n",
    "    \n",
    "    p1 = all_points[start_index]\n",
    "    index = start_index\n",
    "    \n",
    "    path = []\n",
    "    \n",
    "    while not p1 is None:\n",
    "        \n",
    "        path.append(p1)\n",
    "        p2 = across_point(p1, all_points)\n",
    "        \n",
    "        path.append(p2)\n",
    "        p1 = next_point(p2, contour_indices, all_points)    \n",
    "        \n",
    "    return path\n",
    "    \n",
    "def fill_path_numba(all_points, contour_indices):\n",
    "    \n",
    "    \n",
    "    total_path = []\n",
    "    temp = []\n",
    "    start_index = 0\n",
    "    \n",
    "    sort_points = all_points[all_points[:,1].argsort()]\n",
    "    \n",
    "    last_start = 0\n",
    "    \n",
    "    \n",
    "    while last_start != -1:\n",
    "\n",
    "        path = numba_mode(start_index, all_points, contour_indices)\n",
    "        \n",
    "        temp.extend(path)\n",
    "        \n",
    "        last_start = get_available_pt_index(last_start,np.array(temp), sort_points)\n",
    "        \n",
    "        \n",
    "        \n",
    "        if last_start != -1:\n",
    "            start_point = sort_points[last_start]\n",
    "\n",
    "            # get the start index in all points\n",
    "            start_index = np.where((all_points[:,0]==start_point[0]) & (all_points[:,1]==start_point[1]))[0][0]\n",
    "\n",
    "        total_path.append(path)\n",
    "\n",
    "    return total_path\n",
    "    \n",
    "\n",
    "\n",
    "\n",
    "if type(intersection_list[0][0]) == tuple:\n",
    "    pass\n",
    "else:\n",
    "    for r, row in enumerate(intersection_list):\n",
    "        for i, value in enumerate(row):\n",
    "            intersection_list[r][i] = (value.x,value.y)\n",
    "        \n",
    "    for c, contour in enumerate(contour_list):\n",
    "        for i, value in enumerate(contour):\n",
    "            contour_list[c][i] = (value.x,value.y)\n",
    "\n",
    "\n",
    "all_points = []\n",
    "    \n",
    "contour_indices = [0]\n",
    "\n",
    "sum = 0\n",
    "for contour in contour_list:\n",
    "    sum+= len(contour)\n",
    "    contour_indices.append(sum)\n",
    "    \n",
    "    for c in contour:\n",
    "        all_points.append(c)\n",
    "\n",
    "\n",
    "%timeit -n 3 result = fill_path_numba(np.array(all_points), np.array(contour_indices))\n",
    "\n",
    "\n",
    "pts = 0\n",
    "for path in result:\n",
    "    plot_path(list(path))\n",
    "    pts += len(path)\n",
    "print(pts)"
   ]
  },
  {
   "cell_type": "code",
   "execution_count": 236,
   "metadata": {},
   "outputs": [],
   "source": [
    "x = [(0,1),(1,1),(2,1),(1,2),(0,3), (1,3),(2,3)]\n",
    "x = np.array(x, dtype=list)"
   ]
  },
  {
   "cell_type": "code",
   "execution_count": 237,
   "metadata": {},
   "outputs": [
    {
     "data": {
      "text/plain": [
       "array([[0, 1],\n",
       "       [1, 1],\n",
       "       [2, 1],\n",
       "       [1, 2],\n",
       "       [0, 3],\n",
       "       [1, 3],\n",
       "       [2, 3]], dtype=object)"
      ]
     },
     "execution_count": 237,
     "metadata": {},
     "output_type": "execute_result"
    }
   ],
   "source": [
    "x"
   ]
  },
  {
   "cell_type": "code",
   "execution_count": 159,
   "metadata": {
    "scrolled": true
   },
   "outputs": [
    {
     "data": {
      "text/plain": [
       "array([ True,  True,  True, False, False, False, False])"
      ]
     },
     "execution_count": 159,
     "metadata": {},
     "output_type": "execute_result"
    }
   ],
   "source": [
    "x[:,1]==1"
   ]
  },
  {
   "cell_type": "code",
   "execution_count": 164,
   "metadata": {},
   "outputs": [
    {
     "data": {
      "text/plain": [
       "array([9.75121963, 0.62179677])"
      ]
     },
     "execution_count": 164,
     "metadata": {},
     "output_type": "execute_result"
    }
   ],
   "source": [
    "np.array(all_points)[0]"
   ]
  },
  {
   "cell_type": "code",
   "execution_count": 166,
   "metadata": {},
   "outputs": [
    {
     "data": {
      "text/plain": [
       "array([1, 2, 3, 4, 5, 6])"
      ]
     },
     "execution_count": 166,
     "metadata": {},
     "output_type": "execute_result"
    }
   ],
   "source": [
    "y = np.array([1,2,3,4,5,6])\n",
    "y"
   ]
  },
  {
   "cell_type": "code",
   "execution_count": 260,
   "metadata": {},
   "outputs": [
    {
     "data": {
      "text/plain": [
       "0"
      ]
     },
     "execution_count": 260,
     "metadata": {},
     "output_type": "execute_result"
    }
   ],
   "source": [
    "np.where(y==1)[0][0]"
   ]
  },
  {
   "cell_type": "code",
   "execution_count": 240,
   "metadata": {},
   "outputs": [
    {
     "data": {
      "text/plain": [
       "False"
      ]
     },
     "execution_count": 240,
     "metadata": {},
     "output_type": "execute_result"
    }
   ],
   "source": [
    "((x[:,0] == 1) & (x[:,1] == 4)).any()"
   ]
  },
  {
   "cell_type": "code",
   "execution_count": null,
   "metadata": {},
   "outputs": [],
   "source": []
  }
 ],
 "metadata": {
  "kernelspec": {
   "display_name": "Python 3",
   "language": "python",
   "name": "python3"
  },
  "language_info": {
   "codemirror_mode": {
    "name": "ipython",
    "version": 3
   },
   "file_extension": ".py",
   "mimetype": "text/x-python",
   "name": "python",
   "nbconvert_exporter": "python",
   "pygments_lexer": "ipython3",
   "version": "3.8.5"
  }
 },
 "nbformat": 4,
 "nbformat_minor": 4
}
